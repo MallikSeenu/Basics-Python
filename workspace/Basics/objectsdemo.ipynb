{
 "cells": [
  {
   "cell_type": "markdown",
   "metadata": {},
   "source": []
  },
  {
   "cell_type": "markdown",
   "metadata": {},
   "source": [
    "## Lets create some examples on python classes"
   ]
  },
  {
   "cell_type": "code",
   "execution_count": 1,
   "metadata": {},
   "outputs": [],
   "source": [
    "## This is basci class in python\n",
    "class BankAccount:\n",
    "    pass"
   ]
  },
  {
   "cell_type": "code",
   "execution_count": 2,
   "metadata": {},
   "outputs": [],
   "source": [
    "##Create a two bank accounts in Python\n",
    "## This is creating an object\n",
    "account_1 = BankAccount()\n",
    "account_2 = BankAccount()"
   ]
  },
  {
   "cell_type": "code",
   "execution_count": 3,
   "metadata": {},
   "outputs": [
    {
     "data": {
      "text/plain": [
       "__main__.BankAccount"
      ]
     },
     "execution_count": 3,
     "metadata": {},
     "output_type": "execute_result"
    }
   ],
   "source": [
    "type(account_1)"
   ]
  },
  {
   "cell_type": "code",
   "execution_count": 5,
   "metadata": {},
   "outputs": [],
   "source": [
    "class BankAccount:\n",
    "    account_number = None\n",
    "    name = \"\"\n",
    "    balance = 0\n",
    "\n",
    "    def withDraw(amount):\n",
    "        balance -=amount\n",
    "\n",
    "    def deposit(amount):\n",
    "        balance +=amount"
   ]
  },
  {
   "cell_type": "code",
   "execution_count": 6,
   "metadata": {},
   "outputs": [],
   "source": [
    "account_1 = BankAccount()\n",
    "account_2 = BankAccount"
   ]
  },
  {
   "cell_type": "code",
   "execution_count": 7,
   "metadata": {},
   "outputs": [
    {
     "ename": "TypeError",
     "evalue": "BankAccount.deposit() takes 1 positional argument but 2 were given",
     "output_type": "error",
     "traceback": [
      "\u001b[1;31m---------------------------------------------------------------------------\u001b[0m",
      "\u001b[1;31mTypeError\u001b[0m                                 Traceback (most recent call last)",
      "Cell \u001b[1;32mIn[7], line 2\u001b[0m\n\u001b[0;32m      1\u001b[0m account_1\u001b[38;5;241m.\u001b[39maccount_number\u001b[38;5;241m=\u001b[39m\u001b[38;5;124m\"\u001b[39m\u001b[38;5;124m1234567890\u001b[39m\u001b[38;5;124m\"\u001b[39m\n\u001b[1;32m----> 2\u001b[0m \u001b[43maccount_1\u001b[49m\u001b[38;5;241;43m.\u001b[39;49m\u001b[43mdeposit\u001b[49m\u001b[43m(\u001b[49m\u001b[38;5;241;43m10000\u001b[39;49m\u001b[43m)\u001b[49m\n",
      "\u001b[1;31mTypeError\u001b[0m: BankAccount.deposit() takes 1 positional argument but 2 were given"
     ]
    }
   ],
   "source": [
    "account_1.account_number=\"1234567890\"\n",
    "account_1.deposit(10000)"
   ]
  },
  {
   "cell_type": "code",
   "execution_count": 10,
   "metadata": {},
   "outputs": [],
   "source": [
    "class BankAccount:\n",
    "    def __init__( self,account_no,name,amount = 0 ) -> None:\n",
    "\n",
    "        \"\"\"\n",
    "        This is initializer\n",
    "    \n",
    "        \"\"\"\n",
    "    \n",
    "        self.account_number = account_no\n",
    "        self.name =name\n",
    "        self.balance =amount\n",
    "        \n"
   ]
  },
  {
   "cell_type": "code",
   "execution_count": 12,
   "metadata": {},
   "outputs": [],
   "source": [
    "account_1 = BankAccount(\n",
    "    account_no = \"123456677777\",\n",
    "    name = \"Nature valley\"\n",
    ")"
   ]
  },
  {
   "cell_type": "code",
   "execution_count": 15,
   "metadata": {},
   "outputs": [
    {
     "name": "stdout",
     "output_type": "stream",
     "text": [
      "123456677777\n"
     ]
    }
   ],
   "source": [
    "print(account_1.account_number)"
   ]
  },
  {
   "cell_type": "code",
   "execution_count": null,
   "metadata": {},
   "outputs": [],
   "source": [
    "class BankAccount:\n",
    "    def __init__( self,account_no,name,amount = 0 ) -> None:\n",
    "\n",
    "        \"\"\"\n",
    "        This is initializer\n",
    "    \n",
    "        \"\"\"\n",
    "    \n",
    "        self.account_number = account_no\n",
    "        self.name =name\n",
    "        self.balance =amount\n",
    "\n",
    "    def deposit(self, amount) -> None:\n",
    "        self.balance +=amount\n",
    "\n",
    "    def withdraw(self, amount) -> None:\n",
    "        self.balance -=amount\n",
    "\n",
    "    "
   ]
  }
 ],
 "metadata": {
  "kernelspec": {
   "display_name": "Python 3",
   "language": "python",
   "name": "python3"
  },
  "language_info": {
   "codemirror_mode": {
    "name": "ipython",
    "version": 3
   },
   "file_extension": ".py",
   "mimetype": "text/x-python",
   "name": "python",
   "nbconvert_exporter": "python",
   "pygments_lexer": "ipython3",
   "version": "3.12.0"
  }
 },
 "nbformat": 4,
 "nbformat_minor": 2
}
